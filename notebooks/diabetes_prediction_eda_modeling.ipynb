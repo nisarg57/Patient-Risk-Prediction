{
 "cells": [
  {
   "cell_type": "code",
   "execution_count": 76,
   "id": "2b9389fd",
   "metadata": {},
   "outputs": [],
   "source": [
    "import pandas as pd\n",
    "import numpy as np\n",
    "import matplotlib.pyplot as plt\n",
    "import seaborn as sns\n",
    "from sklearn.model_selection import train_test_split\n",
    "from sklearn.metrics import accuracy_score, precision_score, recall_score, f1_score, roc_auc_score, confusion_matrix\n",
    "import sys\n",
    "import os\n",
    "\n",
    "# Add the source directory to the Python path\n",
    "sys.path.append(os.path.abspath(os.path.join(os.getcwd(), '../source')))\n",
    "\n",
    "from data_processing import preprocess_data\n",
    "from feature_selection import select_features_kbest, select_features_from_model\n",
    "from model_training import train_model, evaluate_model, save_model, load_model"
   ]
  },
  {
   "cell_type": "code",
   "execution_count": 77,
   "id": "4867807a",
   "metadata": {},
   "outputs": [
    {
     "data": {
      "text/html": [
       "<div>\n",
       "<style scoped>\n",
       "    .dataframe tbody tr th:only-of-type {\n",
       "        vertical-align: middle;\n",
       "    }\n",
       "\n",
       "    .dataframe tbody tr th {\n",
       "        vertical-align: top;\n",
       "    }\n",
       "\n",
       "    .dataframe thead th {\n",
       "        text-align: right;\n",
       "    }\n",
       "</style>\n",
       "<table border=\"1\" class=\"dataframe\">\n",
       "  <thead>\n",
       "    <tr style=\"text-align: right;\">\n",
       "      <th></th>\n",
       "      <th>Age</th>\n",
       "      <th>Gender</th>\n",
       "      <th>Polyuria</th>\n",
       "      <th>Polydipsia</th>\n",
       "      <th>sudden weight loss</th>\n",
       "      <th>weakness</th>\n",
       "      <th>Polyphagia</th>\n",
       "      <th>Genital thrush</th>\n",
       "      <th>visual blurring</th>\n",
       "      <th>Itching</th>\n",
       "      <th>Irritability</th>\n",
       "      <th>delayed healing</th>\n",
       "      <th>partial paresis</th>\n",
       "      <th>muscle stiffness</th>\n",
       "      <th>Alopecia</th>\n",
       "      <th>Obesity</th>\n",
       "      <th>class</th>\n",
       "    </tr>\n",
       "  </thead>\n",
       "  <tbody>\n",
       "    <tr>\n",
       "      <th>0</th>\n",
       "      <td>40</td>\n",
       "      <td>Male</td>\n",
       "      <td>No</td>\n",
       "      <td>Yes</td>\n",
       "      <td>No</td>\n",
       "      <td>Yes</td>\n",
       "      <td>No</td>\n",
       "      <td>No</td>\n",
       "      <td>No</td>\n",
       "      <td>Yes</td>\n",
       "      <td>No</td>\n",
       "      <td>Yes</td>\n",
       "      <td>No</td>\n",
       "      <td>Yes</td>\n",
       "      <td>Yes</td>\n",
       "      <td>Yes</td>\n",
       "      <td>Positive</td>\n",
       "    </tr>\n",
       "    <tr>\n",
       "      <th>1</th>\n",
       "      <td>58</td>\n",
       "      <td>Male</td>\n",
       "      <td>No</td>\n",
       "      <td>No</td>\n",
       "      <td>No</td>\n",
       "      <td>Yes</td>\n",
       "      <td>No</td>\n",
       "      <td>No</td>\n",
       "      <td>Yes</td>\n",
       "      <td>No</td>\n",
       "      <td>No</td>\n",
       "      <td>No</td>\n",
       "      <td>Yes</td>\n",
       "      <td>No</td>\n",
       "      <td>Yes</td>\n",
       "      <td>No</td>\n",
       "      <td>Positive</td>\n",
       "    </tr>\n",
       "    <tr>\n",
       "      <th>2</th>\n",
       "      <td>41</td>\n",
       "      <td>Male</td>\n",
       "      <td>Yes</td>\n",
       "      <td>No</td>\n",
       "      <td>No</td>\n",
       "      <td>Yes</td>\n",
       "      <td>Yes</td>\n",
       "      <td>No</td>\n",
       "      <td>No</td>\n",
       "      <td>Yes</td>\n",
       "      <td>No</td>\n",
       "      <td>Yes</td>\n",
       "      <td>No</td>\n",
       "      <td>Yes</td>\n",
       "      <td>Yes</td>\n",
       "      <td>No</td>\n",
       "      <td>Positive</td>\n",
       "    </tr>\n",
       "    <tr>\n",
       "      <th>3</th>\n",
       "      <td>45</td>\n",
       "      <td>Male</td>\n",
       "      <td>No</td>\n",
       "      <td>No</td>\n",
       "      <td>Yes</td>\n",
       "      <td>Yes</td>\n",
       "      <td>Yes</td>\n",
       "      <td>Yes</td>\n",
       "      <td>No</td>\n",
       "      <td>Yes</td>\n",
       "      <td>No</td>\n",
       "      <td>Yes</td>\n",
       "      <td>No</td>\n",
       "      <td>No</td>\n",
       "      <td>No</td>\n",
       "      <td>No</td>\n",
       "      <td>Positive</td>\n",
       "    </tr>\n",
       "    <tr>\n",
       "      <th>4</th>\n",
       "      <td>60</td>\n",
       "      <td>Male</td>\n",
       "      <td>Yes</td>\n",
       "      <td>Yes</td>\n",
       "      <td>Yes</td>\n",
       "      <td>Yes</td>\n",
       "      <td>Yes</td>\n",
       "      <td>No</td>\n",
       "      <td>Yes</td>\n",
       "      <td>Yes</td>\n",
       "      <td>Yes</td>\n",
       "      <td>Yes</td>\n",
       "      <td>Yes</td>\n",
       "      <td>Yes</td>\n",
       "      <td>Yes</td>\n",
       "      <td>Yes</td>\n",
       "      <td>Positive</td>\n",
       "    </tr>\n",
       "  </tbody>\n",
       "</table>\n",
       "</div>"
      ],
      "text/plain": [
       "   Age Gender Polyuria Polydipsia sudden weight loss weakness Polyphagia  \\\n",
       "0   40   Male       No        Yes                 No      Yes         No   \n",
       "1   58   Male       No         No                 No      Yes         No   \n",
       "2   41   Male      Yes         No                 No      Yes        Yes   \n",
       "3   45   Male       No         No                Yes      Yes        Yes   \n",
       "4   60   Male      Yes        Yes                Yes      Yes        Yes   \n",
       "\n",
       "  Genital thrush visual blurring Itching Irritability delayed healing  \\\n",
       "0             No              No     Yes           No             Yes   \n",
       "1             No             Yes      No           No              No   \n",
       "2             No              No     Yes           No             Yes   \n",
       "3            Yes              No     Yes           No             Yes   \n",
       "4             No             Yes     Yes          Yes             Yes   \n",
       "\n",
       "  partial paresis muscle stiffness Alopecia Obesity     class  \n",
       "0              No              Yes      Yes     Yes  Positive  \n",
       "1             Yes               No      Yes      No  Positive  \n",
       "2              No              Yes      Yes      No  Positive  \n",
       "3              No               No       No      No  Positive  \n",
       "4             Yes              Yes      Yes     Yes  Positive  "
      ]
     },
     "execution_count": 77,
     "metadata": {},
     "output_type": "execute_result"
    }
   ],
   "source": [
    "# Adjust path if needed\n",
    "df = pd.read_csv('C:/Users/nisar/Desktop/Projects/Patient-Risk-Prediction/data/diabetes_risk_prediction_dataset.csv')\n",
    "df.head()"
   ]
  },
  {
   "cell_type": "code",
   "execution_count": 78,
   "id": "d4943b44",
   "metadata": {},
   "outputs": [
    {
     "name": "stdout",
     "output_type": "stream",
     "text": [
      "Target value counts after conversion:\n",
      "class\n",
      "1    320\n",
      "0    200\n",
      "Name: count, dtype: int64\n"
     ]
    }
   ],
   "source": [
    "# Convert target labels to numeric: 'Negative' -> 0, 'Positive' -> 1\n",
    "df['class'] = df['class'].map({'Negative': 0, 'Positive': 1})\n",
    "print(\"Target value counts after conversion:\")\n",
    "print(df['class'].value_counts())"
   ]
  },
  {
   "cell_type": "code",
   "execution_count": 79,
   "id": "b2b0bda8",
   "metadata": {},
   "outputs": [
    {
     "name": "stdout",
     "output_type": "stream",
     "text": [
      "Shape after preprocessing: (520, 31)\n",
      "Target variable shape: (520,)\n"
     ]
    }
   ],
   "source": [
    "X_processed, y, preprocessor = preprocess_data(df.copy()) # Pass a copy to avoid modifying original df\n",
    "print(\"Shape after preprocessing:\", X_processed.shape)\n",
    "if y is not None:\n",
    "    print(\"Target variable shape:\", y.shape)\n",
    "else:\n",
    "    print(\"No target variable found, y is None.\")\n",
    "# Note: X_processed is a numpy array. You might need to track feature names\n",
    "# from the preprocessor if you want to interpret feature selection results.\n",
    "# For now, just confirming shape is enough for a beginner project."
   ]
  },
  {
   "cell_type": "code",
   "execution_count": 80,
   "id": "973d35a0",
   "metadata": {},
   "outputs": [
    {
     "name": "stdout",
     "output_type": "stream",
     "text": [
      "Shape after preprocessing: (520, 31)\n"
     ]
    }
   ],
   "source": [
    "X_processed, y, preprocessor = preprocess_data(df.copy()) # Pass a copy to avoid modifying original df\n",
    "print(\"Shape after preprocessing:\", X_processed.shape)\n",
    "# Note: X_processed is a numpy array. You might need to track feature names\n",
    "# from the preprocessor if you want to interpret feature selection results.\n",
    "# For now, just confirming shape is enough for a beginner project."
   ]
  },
  {
   "cell_type": "code",
   "execution_count": 81,
   "id": "32f208df",
   "metadata": {},
   "outputs": [
    {
     "name": "stdout",
     "output_type": "stream",
     "text": [
      "X_train shape: (416, 31), y_train shape: (416,)\n",
      "X_test shape: (104, 31), y_test shape: (104,)\n"
     ]
    }
   ],
   "source": [
    "X_train, X_test, y_train, y_test = train_test_split(X_processed, y, test_size=0.2, random_state=42, stratify=y)\n",
    "print(f\"X_train shape: {X_train.shape}, y_train shape: {y_train.shape}\")\n",
    "print(f\"X_test shape: {X_test.shape}, y_test shape: {y_test.shape}\")"
   ]
  },
  {
   "cell_type": "code",
   "execution_count": 82,
   "id": "3e12ea1f",
   "metadata": {},
   "outputs": [
    {
     "name": "stdout",
     "output_type": "stream",
     "text": [
      "X_train shape after feature selection: (416, 10)\n"
     ]
    }
   ],
   "source": [
    "# Select top 10 features (adjust k based on your data and goals)\n",
    "X_train_selected, selector_kbest = select_features_kbest(X_train, y_train, k=10)\n",
    "X_test_selected = selector_kbest.transform(X_test) # Apply same transformation to test set\n",
    "\n",
    "print(f\"X_train shape after feature selection: {X_train_selected.shape}\")"
   ]
  },
  {
   "cell_type": "code",
   "execution_count": 83,
   "id": "0346f607",
   "metadata": {},
   "outputs": [
    {
     "name": "stdout",
     "output_type": "stream",
     "text": [
      "\n",
      "--- Training LogisticRegression ---\n",
      "LogisticRegression Metrics: {'accuracy': 0.8846153846153846, 'precision': 0.90625, 'recall': 0.90625, 'f1_score': 0.90625, 'roc_auc': 0.9732421874999999}\n",
      "Confusion Matrix:\n",
      " [[34  6]\n",
      " [ 6 58]]\n",
      "\n",
      "--- Training DecisionTree ---\n",
      "DecisionTree Metrics: {'accuracy': 0.9230769230769231, 'precision': 0.9666666666666667, 'recall': 0.90625, 'f1_score': 0.9354838709677419, 'roc_auc': 0.9808593749999999}\n",
      "Confusion Matrix:\n",
      " [[38  2]\n",
      " [ 6 58]]\n",
      "\n",
      "--- Training RandomForest ---\n",
      "RandomForest Metrics: {'accuracy': 0.9615384615384616, 'precision': 0.96875, 'recall': 0.96875, 'f1_score': 0.96875, 'roc_auc': 0.9798828124999999}\n",
      "Confusion Matrix:\n",
      " [[38  2]\n",
      " [ 2 62]]\n",
      "\n",
      "--- Training SVC ---\n",
      "SVC Metrics: {'accuracy': 0.9615384615384616, 'precision': 0.96875, 'recall': 0.96875, 'f1_score': 0.96875, 'roc_auc': 0.9740234374999999}\n",
      "Confusion Matrix:\n",
      " [[38  2]\n",
      " [ 2 62]]\n",
      "\n",
      "--- Model Comparison ---\n",
      "                    accuracy  precision   recall  f1_score   roc_auc\n",
      "LogisticRegression  0.884615   0.906250  0.90625  0.906250  0.973242\n",
      "DecisionTree        0.923077   0.966667  0.90625  0.935484  0.980859\n",
      "RandomForest        0.961538   0.968750  0.96875  0.968750  0.979883\n",
      "SVC                 0.961538   0.968750  0.96875  0.968750  0.974023\n"
     ]
    }
   ],
   "source": [
    "models_to_train = ['LogisticRegression', 'DecisionTree', 'RandomForest', 'SVC']\n",
    "results = {}\n",
    "\n",
    "for model_name in models_to_train:\n",
    "    print(f\"\\n--- Training {model_name} ---\")\n",
    "    model = train_model(X_train_selected, y_train, model_name=model_name)\n",
    "    metrics = evaluate_model(model, X_test_selected, y_test)\n",
    "    results[model_name] = metrics\n",
    "    print(f\"{model_name} Metrics: {metrics}\")\n",
    "\n",
    "    # Optional: Confusion Matrix\n",
    "    y_pred = model.predict(X_test_selected)\n",
    "    cm = confusion_matrix(y_test, y_pred)\n",
    "    print(\"Confusion Matrix:\\n\", cm)\n",
    "\n",
    "# Present results clearly\n",
    "results_df = pd.DataFrame(results).T\n",
    "print(\"\\n--- Model Comparison ---\")\n",
    "print(results_df)\n",
    "\n",
    "# Optional: Visualize ROC Curve for best model (requires more advanced plotting)"
   ]
  },
  {
   "cell_type": "code",
   "execution_count": 84,
   "id": "2ba8d6d7",
   "metadata": {},
   "outputs": [
    {
     "name": "stdout",
     "output_type": "stream",
     "text": [
      "\n",
      "Best performing model based on F1-score: RandomForest\n",
      "Model saved to ../models/randomforest_diabetes_predictor.pkl\n",
      "Model saved to ../models/randomforest_diabetes_predictor.pkl\n"
     ]
    }
   ],
   "source": [
    "# Identify the best model based on a chosen metric (e.g., ROC AUC or F1-score)\n",
    "# For example, if 'RandomForest' had the best F1-score\n",
    "best_model_name = results_df['f1_score'].idxmax()\n",
    "print(f\"\\nBest performing model based on F1-score: {best_model_name}\")\n",
    "\n",
    "# Retrain/load the best model if needed for saving\n",
    "# Here, for simplicity, we'll just save the last trained Random Forest if it was good\n",
    "# You'd typically re-train the chosen best model or save it directly after its training step\n",
    "final_model = train_model(X_train_selected, y_train, model_name=best_model_name)\n",
    "save_model(final_model, f'../models/{best_model_name.lower()}_diabetes_predictor.pkl')"
   ]
  }
 ],
 "metadata": {
  "kernelspec": {
   "display_name": "Python 3",
   "language": "python",
   "name": "python3"
  },
  "language_info": {
   "codemirror_mode": {
    "name": "ipython",
    "version": 3
   },
   "file_extension": ".py",
   "mimetype": "text/x-python",
   "name": "python",
   "nbconvert_exporter": "python",
   "pygments_lexer": "ipython3",
   "version": "3.11.9"
  }
 },
 "nbformat": 4,
 "nbformat_minor": 5
}
